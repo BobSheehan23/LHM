{
  "nbformat": 4,
  "nbformat_minor": 0,
  "metadata": {
    "colab": {
      "private_outputs": true,
      "provenance": [],
      "authorship_tag": "ABX9TyNtBPpsJnz2OEATzJHYnGzD",
      "include_colab_link": true
    },
    "kernelspec": {
      "name": "python3",
      "display_name": "Python 3"
    },
    "language_info": {
      "name": "python"
    }
  },
  "cells": [
    {
      "cell_type": "markdown",
      "metadata": {
        "id": "view-in-github",
        "colab_type": "text"
      },
      "source": [
        "<a href=\"https://colab.research.google.com/github/BobSheehan23/Bob_EquiLend_Models/blob/main/Default_EquiLend_Chart.ipynb\" target=\"_parent\"><img src=\"https://colab.research.google.com/assets/colab-badge.svg\" alt=\"Open In Colab\"/></a>"
      ]
    },
    {
      "cell_type": "code",
      "execution_count": null,
      "metadata": {
        "id": "FcJzHVSeJx1w"
      },
      "outputs": [],
      "source": [
        "# Load paste.txt, rename columns appropriately and create chart\n",
        "import pandas as pd\n",
        "import matplotlib.pyplot as plt\n",
        "from matplotlib.ticker import FuncFormatter\n",
        "import io\n",
        "\n",
        "# Correctly parse the data by reading the file line by line\n",
        "with open('paste.txt', 'r') as f:\n",
        "    lines = f.readlines()\n",
        "\n",
        "# The header is the first line, split by '|' and strip whitespace\n",
        "header = [h.strip() for h in lines[0].split('|')]\n",
        "\n",
        "# The data starts from the second line, split by '|' and then by ','\n",
        "data = []\n",
        "for line in lines[1:]:\n",
        "    parts = [p.strip() for p in line.split('|')]\n",
        "    date_part = parts[0]\n",
        "    qty_price_parts = parts[1].split(',')\n",
        "    data.append([date_part, qty_price_parts[0], qty_price_parts[1]])\n",
        "\n",
        "# Create a DataFrame\n",
        "paste_df = pd.DataFrame(data, columns=header)\n",
        "\n",
        "print(paste_df.head())\n",
        "\n",
        "# Clean column names\n",
        "paste_df.columns = [c.strip() for c in paste_df.columns]\n",
        "\n",
        "# Rename expected columns\n",
        "col_date = 'Business Date'\n",
        "col_qty = 'On Loan Quantity'\n",
        "col_price = 'Security Price'\n",
        "\n",
        "# Convert columns to appropriate data types\n",
        "paste_df[col_date] = pd.to_datetime(paste_df[col_date])\n",
        "paste_df[col_qty] = pd.to_numeric(paste_df[col_qty])\n",
        "paste_df[col_price] = pd.to_numeric(paste_df[col_price])\n",
        "\n",
        "\n",
        "paste_df = paste_df.sort_values(col_date)\n",
        "\n",
        "fig, ax1 = plt.subplots(figsize=(12,7))\n",
        "\n",
        "border_color = '#048dd2'\n",
        "loan_color = '#f57600'\n",
        "fig.patch.set_edgecolor(border_color)\n",
        "fig.patch.set_linewidth(16)\n",
        "\n",
        "ax1.plot(paste_df[col_date], paste_df[col_price], color=border_color, linewidth=3.0, label='Price per Share (USD)')\n",
        "ax1.set_ylabel('Price per Share (USD)', fontsize=12, fontweight='bold', color='#374151', labelpad=8)\n",
        "ax1.tick_params(axis='y', labelcolor=border_color, labelsize=10)\n",
        "for lab in ax1.get_yticklabels(): lab.set_fontweight('bold')\n",
        "ax1.set_xlim(left=paste_df[col_date].min())\n",
        "ax1.set_xmargin(0)\n",
        "\n",
        "ax2 = ax1.twinx()\n",
        "ax2.plot(paste_df[col_date], paste_df[col_qty]/1e6, color=loan_color, linewidth=2.5, label='Loan Quantity (MM shares)')\n",
        "ax2.set_ylabel('Loan Quantity (MM shares)', fontsize=12, fontweight='bold', color='#374151', rotation=270, labelpad=15, va='bottom')\n",
        "ax2.tick_params(axis='y', labelcolor=loan_color, labelsize=10)\n",
        "ax2.yaxis.set_major_formatter(FuncFormatter(lambda x,pos: format(x,'.2f')))\n",
        "for lab in ax2.get_yticklabels(): lab.set_fontweight('bold')\n",
        "\n",
        "plt.title('Default Chart', fontsize=16, fontweight='bold', color='#006db7')\n",
        "\n",
        "lines, labels = [], []\n",
        "for ax in [ax1, ax2]:\n",
        "    lns, lbl = ax.get_legend_handles_labels()\n",
        "    lines += lns\n",
        "    labels += lbl\n",
        "leg = plt.legend(lines, labels, loc='upper left', frameon=True, fontsize=12)\n",
        "leg.get_frame().set_facecolor('white'); leg.get_frame().set_edgecolor('none')\n",
        "for txt in leg.get_texts(): txt.set_fontweight('bold')\n",
        "\n",
        "for spine in ax1.spines.values(): spine.set_edgecolor('#BDDFFF'); spine.set_linewidth(1.5)\n",
        "for spine in ax2.spines.values(): spine.set_edgecolor('#BDDFFF'); spine.set_linewidth(1.5)\n",
        "\n",
        "plt.annotate('Source: EquiLend Data & Analytics', (0.975, 0.025), xycoords='figure fraction', ha='right', fontsize=12, fontweight='bold', color='#006db7')\n",
        "plt.tight_layout()\n",
        "plt.show()"
      ]
    },
    {
      "cell_type": "code",
      "source": [],
      "metadata": {
        "id": "Qt9AfE2fKIEK"
      },
      "execution_count": null,
      "outputs": []
    },
    {
      "cell_type": "code",
      "metadata": {
        "id": "172e629b"
      },
      "source": [
        "# Create a dummy paste.txt file with sample data\n",
        "sample_data = \"\"\"Business Date      | On Loan Quantity,Security Price\n",
        "2023-01-01      | 1000,50.50\n",
        "2023-01-02      | 1200,51.00\n",
        "2023-01-03      | 1100,50.80\n",
        "2023-01-04      | 1300,51.20\n",
        "2023-01-05      | 1500,51.50\n",
        "\"\"\"\n",
        "\n",
        "with open('paste.txt', 'w') as f:\n",
        "    f.write(sample_data)\n",
        "\n",
        "print(\"Dummy 'paste.txt' file created.\")"
      ],
      "execution_count": null,
      "outputs": []
    }
  ]
}