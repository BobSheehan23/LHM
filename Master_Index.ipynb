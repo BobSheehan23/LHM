{
 "cells": [
  {
   "cell_type": "markdown",
   "metadata": {},
   "source": [
    "# LHM Repository Master Index\n",
    "\n",
    "Welcome to the Lighthouse Macro (LHM) repository - your complete source for macroeconomic analysis, financial modeling, and quantitative research.\n",
    "\n",
    "## 📋 Repository Overview\n",
    "\n",
    "This notebook serves as your central navigation hub for all content in the LHM repository."
   ]
  },
  {
   "cell_type": "code",
   "execution_count": null,
   "metadata": {},
   "outputs": [],
   "source": [
    "import os\n",
    "import pandas as pd\n",
    "from pathlib import Path\n",
    "import matplotlib.pyplot as plt\n",
    "import seaborn as sns\n",
    "\n",
    "# Set style\n",
    "plt.style.use('seaborn-v0_8')\n",
    "sns.set_palette(\"husl\")\n",
    "\n",
    "print(\"🚀 LHM Repository Master Index\")\n",
    "print(\"=\" * 50)"
   ]
  },
  {
   "cell_type": "markdown",
   "metadata": {},
   "source": [
    "## 🗂️ Repository Structure Analysis"
   ]
  },
  {
   "cell_type": "code",
   "execution_count": null,
   "metadata": {},
   "outputs": [],
   "source": [
    "def analyze_repository_structure():\n",
    "    \"\"\"Analyze and display repository structure\"\"\"\n",
    "    repo_stats = {}\n",
    "    \n",
    "    # Main directories\n",
    "    main_dirs = ['EquiLend', 'MacroAnalysis', 'DailyDigest', 'Capstone', 'Documentation', 'Utils']\n",
    "    \n",
    "    for directory in main_dirs:\n",
    "        if os.path.exists(directory):\n",
    "            # Count files\n",
    "            notebooks = len(list(Path(directory).rglob('*.ipynb')))\n",
    "            python_files = len(list(Path(directory).rglob('*.py')))\n",
    "            data_files = len(list(Path(directory).rglob('*.xlsx'))) + len(list(Path(directory).rglob('*.csv')))\n",
    "            \n",
    "            repo_stats[directory] = {\n",
    "                'Notebooks': notebooks,\n",
    "                'Python Scripts': python_files,\n",
    "                'Data Files': data_files,\n",
    "                'Total Files': len(list(Path(directory).rglob('*'))) - len(list(Path(directory).rglob('*/'))),\n",
    "            }\n",
    "    \n",
    "    return pd.DataFrame(repo_stats).T\n",
    "\n",
    "structure_df = analyze_repository_structure()\n",
    "print(\"📊 Repository Structure:\")\n",
    "print(structure_df)\n",
    "\n",
    "# Visualize\n",
    "fig, (ax1, ax2) = plt.subplots(1, 2, figsize=(15, 6))\n",
    "\n",
    "structure_df['Notebooks'].plot(kind='bar', ax=ax1, color='lightblue')\n",
    "ax1.set_title('Notebooks by Directory')\n",
    "ax1.set_ylabel('Number of Notebooks')\n",
    "ax1.tick_params(axis='x', rotation=45)\n",
    "\n",
    "structure_df['Total Files'].plot(kind='pie', ax=ax2, autopct='%1.1f%%')\n",
    "ax2.set_title('Total Files Distribution')\n",
    "ax2.set_ylabel('')\n",
    "\n",
    "plt.tight_layout()\n",
    "plt.show()"
   ]
  },
  {
   "cell_type": "markdown",
   "metadata": {},
   "source": [
    "## 🏦 EquiLend - Securities Lending Analysis\n",
    "\n",
    "**Purpose**: Securities lending market analysis, daily digest generation, and financial market microstructure research.\n",
    "\n",
    "### Key Notebooks:\n",
    "- `data_analysis/Mega_Macro_Analysis.ipynb` - Comprehensive macro analysis\n",
    "- `notebooks/Daily_Digest_Generator_Dynamic.ipynb` - Automated daily market digest\n",
    "- `charts/Plumbing_Charts.ipynb` - Market visualization tools\n",
    "- `utils/fredav.ipynb` - FRED data utilities\n",
    "\n",
    "**Note**: All proprietary EquiLend data has been scrubbed and replaced with public domain equivalents."
   ]
  },
  {
   "cell_type": "markdown",
   "metadata": {},
   "source": [
    "## 📈 MacroAnalysis - Economic Research\n",
    "\n",
    "**Purpose**: Comprehensive macroeconomic analysis covering US and European economies.\n",
    "\n",
    "### Key Categories:\n",
    "\n",
    "#### US Economy (`us_economy/`):\n",
    "- `CPI_Indicators.ipynb` - Consumer Price Index analysis\n",
    "- `GDP_Composition.ipynb` - GDP component analysis\n",
    "- `Money_Supply.ipynb` - M2 money supply tracking\n",
    "- `Labor_Productivity.ipynb` - Employment and productivity metrics\n",
    "- `Fed_Public_Debt_and_Fed_Tax_Revenue.ipynb` - Fiscal analysis\n",
    "\n",
    "#### Market Analysis (`market_analysis/`):\n",
    "- `Interest_Rate_Spreads.ipynb` - Yield curve and spread analysis\n",
    "- `Stock_Market.ipynb` - Equity market analysis\n",
    "\n",
    "#### Investment Tools (`investment_tools/`):\n",
    "- Portfolio optimization frameworks\n",
    "- Risk assessment tools"
   ]
  },
  {
   "cell_type": "markdown",
   "metadata": {},
   "source": [
    "## 📰 DailyDigest - Automated Reporting\n",
    "\n",
    "**Purpose**: Automated daily market analysis and digest generation.\n",
    "\n",
    "### Key Files:\n",
    "- `daily_digest_generator.ipynb` - Main digest generation notebook\n",
    "- `daily_digest_generator.py` - Python script for automation\n",
    "- `fee_table.xlsx` - Reference data\n",
    "- `squeeze_table.xlsx` - Market squeeze analysis data"
   ]
  },
  {
   "cell_type": "markdown",
   "metadata": {},
   "source": [
    "## 🎓 Capstone - BrainStation Project\n",
    "\n",
    "**Purpose**: Complete BrainStation Data Science Capstone project materials.\n",
    "\n",
    "### Contents:\n",
    "- `BobSheehanCapstone.ipynb` - Main capstone analysis\n",
    "- `BOB_SHEEHAN_SPRINT3.ipynb` - Sprint 3 deliverables\n",
    "- `Macro & Markets Demo Day.pdf` - Final presentation"
   ]
  },
  {
   "cell_type": "markdown",
   "metadata": {},
   "source": [
    "## 🔧 Getting Started Guide"
   ]
  },
  {
   "cell_type": "code",
   "execution_count": null,
   "metadata": {},
   "outputs": [],
   "source": [
    "def display_quick_start():\n",
    "    \"\"\"Display quick start instructions\"\"\"\n",
    "    print(\"🚀 Quick Start Instructions:\")\n",
    "    print(\"=\" * 30)\n",
    "    print(\"1. 📋 Check requirements: pip install -r requirements.txt\")\n",
    "    print(\"2. 🔑 Setup environment: cp .env.example .env (then edit with your API keys)\")\n",
    "    print(\"3. 📁 Create data directories: mkdir -p data output charts\")\n",
    "    print(\"4. 🧪 Test setup: Run any notebook in MacroAnalysis/us_economy/\")\n",
    "    print(\"5. 📖 Read docs: Check Documentation/README.md for detailed info\")\n",
    "    print(\"\\n⚡ Pro tip: Run setup.py for automated setup!\")\n",
    "\n",
    "display_quick_start()"
   ]
  },
  {
   "cell_type": "markdown",
   "metadata": {},
   "source": [
    "## 🔗 Quick Navigation Links\n",
    "\n",
    "### Most Popular Notebooks:\n",
    "1. [**Lighthouse Macro Key Indicators**](MacroAnalysis/Lighthouse_Macro_Key_Indicators.ipynb) - Overview dashboard\n",
    "2. [**CPI Analysis**](MacroAnalysis/us_economy/CPI_Indicators.ipynb) - Inflation tracking\n",
    "3. [**Daily Digest Generator**](DailyDigest/daily_digest_generator.ipynb) - Automated reporting\n",
    "4. [**Mega Macro Analysis**](EquiLend/data_analysis/Mega_Macro_Analysis.ipynb) - Comprehensive analysis\n",
    "5. [**Capstone Project**](Capstone/BobSheehanCapstone.ipynb) - Complete research project\n",
    "\n",
    "### Key Utilities:\n",
    "- [**FRED Data Tools**](EquiLend/utils/fredav.ipynb) - Economic data utilities\n",
    "- [**Labor Market Charts**](EquiLend/utils/labormktcharts.ipynb) - Employment visualization\n",
    "- [**Setup Notebook**](EquiLend/Notebook_Setup.ipynb) - Configuration helper"
   ]
  },
  {
   "cell_type": "markdown",
   "metadata": {},
   "source": [
    "## 📊 Repository Health Check"
   ]
  },
  {
   "cell_type": "code",
   "execution_count": null,
   "metadata": {},
   "outputs": [],
   "source": [
    "def health_check():\n",
    "    \"\"\"Perform basic repository health check\"\"\"\n",
    "    print(\"🏥 Repository Health Check:\")\n",
    "    print(\"=\" * 30)\n",
    "    \n",
    "    # Check key files\n",
    "    key_files = [\n",
    "        'requirements.txt',\n",
    "        '.env.example',\n",
    "        '.gitignore',\n",
    "        'setup.py',\n",
    "        'Documentation/README.md'\n",
    "    ]\n",
    "    \n",
    "    for file in key_files:\n",
    "        status = \"✅\" if os.path.exists(file) else \"❌\"\n",
    "        print(f\"{status} {file}\")\n",
    "    \n",
    "    # Check directories\n",
    "    key_dirs = ['EquiLend', 'MacroAnalysis', 'DailyDigest', 'Capstone']\n",
    "    print(\"\\n📁 Key Directories:\")\n",
    "    for directory in key_dirs:\n",
    "        status = \"✅\" if os.path.exists(directory) else \"❌\"\n",
    "        count = len(list(Path(directory).rglob('*'))) if os.path.exists(directory) else 0\n",
    "        print(f\"{status} {directory}/ ({count} files)\")\n",
    "    \n",
    "    print(\"\\n🎯 Status: Repository is ready for use!\")\n",
    "\n",
    "health_check()"
   ]
  },
  {
   "cell_type": "markdown",
   "metadata": {},
   "source": [
    "## 🆘 Support and Documentation\n",
    "\n",
    "- **Complete Documentation**: [Documentation/README.md](Documentation/README.md)\n",
    "- **Setup Help**: Run `python setup.py` for automated setup\n",
    "- **API Keys**: Configure in `.env` file (copy from `.env.example`)\n",
    "- **Issues**: Check individual notebook documentation\n",
    "\n",
    "---\n",
    "*This repository consolidates all previous work into a single, organized source of truth for macroeconomic analysis and financial modeling.*"
   ]
  }
 ],
 "metadata": {
  "kernelspec": {
   "display_name": "Python 3",
   "language": "python",
   "name": "python3"
  },
  "language_info": {
   "codemirror_mode": {
    "name": "ipython",
    "version": 3
   },
   "file_extension": ".py",
   "mimetype": "text/x-python",
   "name": "python",
   "nbconvert_exporter": "python",
   "pygments_lexer": "ipython3",
   "version": "3.8.0"
  }
 },
 "nbformat": 4,
 "nbformat_minor": 4
}